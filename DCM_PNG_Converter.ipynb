{
 "metadata": {
  "language_info": {
   "codemirror_mode": {
    "name": "ipython",
    "version": 3
   },
   "file_extension": ".py",
   "mimetype": "text/x-python",
   "name": "python",
   "nbconvert_exporter": "python",
   "pygments_lexer": "ipython3",
   "version": "3.6.9"
  },
  "orig_nbformat": 2,
  "kernelspec": {
   "name": "python36964bit8f98a42d57d2456eb4939acb5338475b",
   "display_name": "Python 3.6.9 64-bit"
  },
  "metadata": {
   "interpreter": {
    "hash": "31f2aee4e71d21fbe5cf8b01ff0e069b9275f58929596ceb00d14d90e3e16cd6"
   }
  }
 },
 "nbformat": 4,
 "nbformat_minor": 2,
 "cells": [
  {
   "cell_type": "code",
   "execution_count": 20,
   "metadata": {},
   "outputs": [
    {
     "output_type": "stream",
     "name": "stdout",
     "text": [
      "15197780691428647.dcm\n",
      "5032497707401895.dcm\n",
      "7334765991908007.dcm\n"
     ]
    }
   ],
   "source": [
    "import os\n",
    "import numpy as np\n",
    "import pydicom\n",
    "import png\n",
    "source_folder = r'/home/aimlab/Documents/Courses/Deep_learning/Project/DICOM_PNG_converter/dcm'\n",
    "output_folder = r'/home/aimlab/Documents/Courses/Deep_learning/Project/DICOM_PNG_converter/png'\n",
    "\n",
    "\n",
    "def dicom2png(source_folder, output_folder):\n",
    "    list_of_files = os.listdir(source_folder)\n",
    "    f = open('labels.csv','w')\n",
    "    # for file in list_of_files:\n",
    "    #     f.write(file)\n",
    "    #     f.write('\\n')\n",
    "    # f.close()\n",
    "    for file in list_of_files:\n",
    "        f.write(file)\n",
    "        f.write('\\n')\n",
    "        try:\n",
    "            ds = pydicom.read_file(os.path.join(source_folder,file))\n",
    "            # Convert to float to avoid overflow or underflow losses.\n",
    "            # image_2d = ds.pixel_array.astype(float)\n",
    "            shape = ds.pixel_array.shape\n",
    "\n",
    "            # Load dimensions based on the number of rows, columns\n",
    "            x_dim, y_dim = (int(ds.Rows), int(ds.Columns))\n",
    "            # load pixel value\n",
    "            xray = ds.pixel_array\n",
    "            # flip the pixels upside-down so that image is not inverted\n",
    "            # xray = np.flipud(xray)\n",
    "            if ds.PhotometricInterpretation == \"MONOCHROME1\":\n",
    "                xray = np.amax(xray) - xray\n",
    "            xray = xray - np.min(xray)\n",
    "            xray = xray / np.max(xray)\n",
    "            xray = (xray * 255).astype(np.uint8)\n",
    "            # Write the PNG file\n",
    "            print(file)\n",
    "\n",
    "            file = os.path.splitext(file)[0]\n",
    "            with open(os.path.join(output_folder,file)+'.png' , 'wb') as png_file:\n",
    "                w = png.Writer(shape[1], shape[0], greyscale=True)\n",
    "                w.write(png_file, xray)\n",
    "        except:\n",
    "            print('Could not convert: ', file)\n",
    "    f.close()\n",
    "dicom2png(source_folder, output_folder)"
   ]
  }
 ]
}