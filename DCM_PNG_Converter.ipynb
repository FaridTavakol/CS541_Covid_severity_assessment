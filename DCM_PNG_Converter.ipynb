{
 "metadata": {
  "language_info": {
   "codemirror_mode": {
    "name": "ipython",
    "version": 3
   },
   "file_extension": ".py",
   "mimetype": "text/x-python",
   "name": "python",
   "nbconvert_exporter": "python",
   "pygments_lexer": "ipython3",
   "version": "3.6.9"
  },
  "orig_nbformat": 2,
  "kernelspec": {
   "name": "python36964bit8f98a42d57d2456eb4939acb5338475b",
   "display_name": "Python 3.6.9 64-bit"
  },
  "metadata": {
   "interpreter": {
    "hash": "31f2aee4e71d21fbe5cf8b01ff0e069b9275f58929596ceb00d14d90e3e16cd6"
   }
  }
 },
 "nbformat": 4,
 "nbformat_minor": 2,
 "cells": [
  {
   "cell_type": "code",
   "execution_count": null,
   "metadata": {},
   "outputs": [],
   "source": [
    "import os\n",
    "import numpy as np\n",
    "import pydicom\n",
    "import png\n",
    "source_folder = r'/home/aimlab/Documents/Courses/Deep_learning/Project/DICOM_PNG_converter/dcm'\n",
    "output_folder = r'/home/aimlab/Documents/Courses/Deep_learning/Project/DICOM_PNG_converter/png'\n",
    "\n",
    "\n",
    "def dicom2png(source_folder, output_folder):\n",
    "    list_of_files = os.listdir(source_folder)\n",
    "    f = open('labels.csv','w')\n",
    "    # for file in list_of_files:\n",
    "    #     f.write(file)\n",
    "    #     f.write('\\n')\n",
    "    # f.close()\n",
    "    for file in list_of_files:\n",
    "        f.write(file)\n",
    "        f.write('\\n')\n",
    "        try:\n",
    "            ds = pydicom.read_file(os.path.join(source_folder,file))\n",
    "            # Convert to float to avoid overflow or underflow losses.\n",
    "            # image_2d = ds.pixel_array.astype(float)\n",
    "            shape = ds.pixel_array.shape\n",
    "\n",
    "            # Load dimensions based on the number of rows, columns\n",
    "            x_dim, y_dim = (int(ds.Rows), int(ds.Columns))\n",
    "            # load pixel value\n",
    "            xray = ds.pixel_array\n",
    "            # flip the pixels upside-down so that image is not inverted\n",
    "            # xray = np.flipud(xray)\n",
    "            if ds.PhotometricInterpretation == \"MONOCHROME1\":\n",
    "                xray = np.amax(xray) - xray\n",
    "            xray = xray - np.min(xray)\n",
    "            xray = xray / np.max(xray)\n",
    "            xray = (xray * 255).astype(np.uint8)\n",
    "            # Write the PNG file\n",
    "            print(file)\n",
    "\n",
    "            file = os.path.splitext(file)[0]\n",
    "            with open(os.path.join(output_folder,file)+'.png' , 'wb') as png_file:\n",
    "                w = png.Writer(shape[1], shape[0], greyscale=True)\n",
    "                w.write(png_file, xray)\n",
    "        except:\n",
    "            print('Could not convert: ', file)\n",
    "    f.close()\n",
    "dicom2png(source_folder, output_folder)"
   ]
  },
  {
   "cell_type": "code",
   "execution_count": 166,
   "metadata": {},
   "outputs": [],
   "source": [
    "source_folder = r'/home/aimlab/Documents/Courses/Deep_learning/Project/DICOM_PNG_converter/dcm'\n",
    "output_folder = r'/home/aimlab/Documents/Courses/Deep_learning/Project/DICOM_PNG_converter/png'\n",
    "def dicom2png(source_folder, output_folder):\n",
    "    list_of_files = os.listdir(source_folder)\n",
    "    f = open('labels.csv','w')\n",
    "    f.write('Filename')\n",
    "    f.write('\\n')\n",
    "    for file in list_of_files:\n",
    "        f.write(file)\n",
    "        f.write('\\n')\n",
    "    f.close()\n",
    "dicom2png(source_folder, output_folder)"
   ]
  },
  {
   "cell_type": "code",
   "execution_count": 167,
   "metadata": {},
   "outputs": [],
   "source": [
    "## This part is for using the labels and exctracting the columns values of the original csv file and creating a new csv file.\n",
    "import pandas as pd \n",
    "df = pd.read_csv(r'./labels.csv')\n",
    "org_df = pd.read_csv(r'./metadata_global_v2.csv', sep= ';')\n",
    "# print(org_df)"
   ]
  },
  {
   "cell_type": "code",
   "execution_count": 177,
   "metadata": {},
   "outputs": [
    {
     "output_type": "execute_result",
     "data": {
      "text/plain": [
       "Index(['Filename', 'StudyDate', 'Modality', 'Columns', 'Rows', 'Manufacturer',\n",
       "       'PhotometricInterpretation', 'BrixiaScore', 'BrixiaScoreGlobal',\n",
       "       'ConsensusTestset', 'Subject', 'StudyId', 'Sex',\n",
       "       'AgeAtStudyDateFiveYear'],\n",
       "      dtype='object')"
      ]
     },
     "metadata": {},
     "execution_count": 177
    }
   ],
   "source": [
    "# print(list(org_df.columns))\n",
    "org_df.columns"
   ]
  },
  {
   "cell_type": "code",
   "execution_count": 176,
   "metadata": {},
   "outputs": [
    {
     "output_type": "execute_result",
     "data": {
      "text/plain": [
       "Index(['Filename'], dtype='object')"
      ]
     },
     "metadata": {},
     "execution_count": 176
    }
   ],
   "source": [
    "df.columns"
   ]
  },
  {
   "cell_type": "code",
   "execution_count": 179,
   "metadata": {},
   "outputs": [
    {
     "output_type": "execute_result",
     "data": {
      "text/plain": [
       "                   Filename  StudyDate Modality  Columns  Rows  \\\n",
       "0     98728340646032925.dcm   20200312       CR     2866  2350   \n",
       "1    166414673190348825.dcm   20200325       DX     3032  2520   \n",
       "2    746021306010419641.dcm   20200318       DX     3032  2520   \n",
       "3    759417224465559435.dcm   20200322       CR     2866  1748   \n",
       "4    849569894482494578.dcm   20200330       CR     2866  2350   \n",
       "..                      ...        ...      ...      ...   ...   \n",
       "301  351036371249274070.dcm   20200319       DX     2539  1776   \n",
       "302  221170870669898830.dcm   20200329       CR     2698  2110   \n",
       "303   79376362217868614.dcm   20200330       CR     2866  2350   \n",
       "304  120990829650033034.dcm   20200314       CR     2866  2350   \n",
       "305  734804559464471941.dcm   20200316       DX     3032  2520   \n",
       "\n",
       "          Manufacturer PhotometricInterpretation  BrixiaScore  \\\n",
       "0              SIEMENS               MONOCHROME2        11011   \n",
       "1    CARESTREAM HEALTH               MONOCHROME1         1021   \n",
       "2    CARESTREAM HEALTH               MONOCHROME1       122122   \n",
       "3              SIEMENS               MONOCHROME2       132123   \n",
       "4              SIEMENS               MONOCHROME2       232131   \n",
       "..                 ...                       ...          ...   \n",
       "301  Carestream Health               MONOCHROME2         1012   \n",
       "302            SIEMENS               MONOCHROME2        11013   \n",
       "303            SIEMENS               MONOCHROME2        31032   \n",
       "304            SIEMENS               MONOCHROME2            3   \n",
       "305  CARESTREAM HEALTH               MONOCHROME1          111   \n",
       "\n",
       "     BrixiaScoreGlobal  ConsensusTestset Subject StudyId Sex  \\\n",
       "0                    4                 0   P0830   A0703   M   \n",
       "1                    4                 0   P0093   A0447   M   \n",
       "2                   10                 0   P1301   A1952   M   \n",
       "3                   12                 0   P0182   A4255   F   \n",
       "4                   12                 0   P1523   A2815   M   \n",
       "..                 ...               ...     ...     ...  ..   \n",
       "301                  4                 0   P0799   A0431   M   \n",
       "302                  6                 0   P2024   A3611   F   \n",
       "303                  9                 0   P1552   A1338   M   \n",
       "304                  3                 0   P1659   A0235   M   \n",
       "305                  3                 0   P0650   A3331   F   \n",
       "\n",
       "     AgeAtStudyDateFiveYear  \n",
       "0                        14  \n",
       "1                        13  \n",
       "2                        14  \n",
       "3                        16  \n",
       "4                        13  \n",
       "..                      ...  \n",
       "301                       4  \n",
       "302                      17  \n",
       "303                      14  \n",
       "304                      14  \n",
       "305                      12  \n",
       "\n",
       "[306 rows x 14 columns]"
      ],
      "text/html": "<div>\n<style scoped>\n    .dataframe tbody tr th:only-of-type {\n        vertical-align: middle;\n    }\n\n    .dataframe tbody tr th {\n        vertical-align: top;\n    }\n\n    .dataframe thead th {\n        text-align: right;\n    }\n</style>\n<table border=\"1\" class=\"dataframe\">\n  <thead>\n    <tr style=\"text-align: right;\">\n      <th></th>\n      <th>Filename</th>\n      <th>StudyDate</th>\n      <th>Modality</th>\n      <th>Columns</th>\n      <th>Rows</th>\n      <th>Manufacturer</th>\n      <th>PhotometricInterpretation</th>\n      <th>BrixiaScore</th>\n      <th>BrixiaScoreGlobal</th>\n      <th>ConsensusTestset</th>\n      <th>Subject</th>\n      <th>StudyId</th>\n      <th>Sex</th>\n      <th>AgeAtStudyDateFiveYear</th>\n    </tr>\n  </thead>\n  <tbody>\n    <tr>\n      <th>0</th>\n      <td>98728340646032925.dcm</td>\n      <td>20200312</td>\n      <td>CR</td>\n      <td>2866</td>\n      <td>2350</td>\n      <td>SIEMENS</td>\n      <td>MONOCHROME2</td>\n      <td>11011</td>\n      <td>4</td>\n      <td>0</td>\n      <td>P0830</td>\n      <td>A0703</td>\n      <td>M</td>\n      <td>14</td>\n    </tr>\n    <tr>\n      <th>1</th>\n      <td>166414673190348825.dcm</td>\n      <td>20200325</td>\n      <td>DX</td>\n      <td>3032</td>\n      <td>2520</td>\n      <td>CARESTREAM HEALTH</td>\n      <td>MONOCHROME1</td>\n      <td>1021</td>\n      <td>4</td>\n      <td>0</td>\n      <td>P0093</td>\n      <td>A0447</td>\n      <td>M</td>\n      <td>13</td>\n    </tr>\n    <tr>\n      <th>2</th>\n      <td>746021306010419641.dcm</td>\n      <td>20200318</td>\n      <td>DX</td>\n      <td>3032</td>\n      <td>2520</td>\n      <td>CARESTREAM HEALTH</td>\n      <td>MONOCHROME1</td>\n      <td>122122</td>\n      <td>10</td>\n      <td>0</td>\n      <td>P1301</td>\n      <td>A1952</td>\n      <td>M</td>\n      <td>14</td>\n    </tr>\n    <tr>\n      <th>3</th>\n      <td>759417224465559435.dcm</td>\n      <td>20200322</td>\n      <td>CR</td>\n      <td>2866</td>\n      <td>1748</td>\n      <td>SIEMENS</td>\n      <td>MONOCHROME2</td>\n      <td>132123</td>\n      <td>12</td>\n      <td>0</td>\n      <td>P0182</td>\n      <td>A4255</td>\n      <td>F</td>\n      <td>16</td>\n    </tr>\n    <tr>\n      <th>4</th>\n      <td>849569894482494578.dcm</td>\n      <td>20200330</td>\n      <td>CR</td>\n      <td>2866</td>\n      <td>2350</td>\n      <td>SIEMENS</td>\n      <td>MONOCHROME2</td>\n      <td>232131</td>\n      <td>12</td>\n      <td>0</td>\n      <td>P1523</td>\n      <td>A2815</td>\n      <td>M</td>\n      <td>13</td>\n    </tr>\n    <tr>\n      <th>...</th>\n      <td>...</td>\n      <td>...</td>\n      <td>...</td>\n      <td>...</td>\n      <td>...</td>\n      <td>...</td>\n      <td>...</td>\n      <td>...</td>\n      <td>...</td>\n      <td>...</td>\n      <td>...</td>\n      <td>...</td>\n      <td>...</td>\n      <td>...</td>\n    </tr>\n    <tr>\n      <th>301</th>\n      <td>351036371249274070.dcm</td>\n      <td>20200319</td>\n      <td>DX</td>\n      <td>2539</td>\n      <td>1776</td>\n      <td>Carestream Health</td>\n      <td>MONOCHROME2</td>\n      <td>1012</td>\n      <td>4</td>\n      <td>0</td>\n      <td>P0799</td>\n      <td>A0431</td>\n      <td>M</td>\n      <td>4</td>\n    </tr>\n    <tr>\n      <th>302</th>\n      <td>221170870669898830.dcm</td>\n      <td>20200329</td>\n      <td>CR</td>\n      <td>2698</td>\n      <td>2110</td>\n      <td>SIEMENS</td>\n      <td>MONOCHROME2</td>\n      <td>11013</td>\n      <td>6</td>\n      <td>0</td>\n      <td>P2024</td>\n      <td>A3611</td>\n      <td>F</td>\n      <td>17</td>\n    </tr>\n    <tr>\n      <th>303</th>\n      <td>79376362217868614.dcm</td>\n      <td>20200330</td>\n      <td>CR</td>\n      <td>2866</td>\n      <td>2350</td>\n      <td>SIEMENS</td>\n      <td>MONOCHROME2</td>\n      <td>31032</td>\n      <td>9</td>\n      <td>0</td>\n      <td>P1552</td>\n      <td>A1338</td>\n      <td>M</td>\n      <td>14</td>\n    </tr>\n    <tr>\n      <th>304</th>\n      <td>120990829650033034.dcm</td>\n      <td>20200314</td>\n      <td>CR</td>\n      <td>2866</td>\n      <td>2350</td>\n      <td>SIEMENS</td>\n      <td>MONOCHROME2</td>\n      <td>3</td>\n      <td>3</td>\n      <td>0</td>\n      <td>P1659</td>\n      <td>A0235</td>\n      <td>M</td>\n      <td>14</td>\n    </tr>\n    <tr>\n      <th>305</th>\n      <td>734804559464471941.dcm</td>\n      <td>20200316</td>\n      <td>DX</td>\n      <td>3032</td>\n      <td>2520</td>\n      <td>CARESTREAM HEALTH</td>\n      <td>MONOCHROME1</td>\n      <td>111</td>\n      <td>3</td>\n      <td>0</td>\n      <td>P0650</td>\n      <td>A3331</td>\n      <td>F</td>\n      <td>12</td>\n    </tr>\n  </tbody>\n</table>\n<p>306 rows × 14 columns</p>\n</div>"
     },
     "metadata": {},
     "execution_count": 179
    }
   ],
   "source": [
    "merged_inner = pd.merge(left=df,right=org_df, left_on='Filename', right_on='Filename')\n",
    "merged_inner.shape\n",
    "merged_inner"
   ]
  },
  {
   "cell_type": "code",
   "execution_count": 185,
   "metadata": {},
   "outputs": [],
   "source": [
    "merged_inner.to_csv('Image_labels.csv', sep = ';', encoding='utf-8', index=False)"
   ]
  },
  {
   "cell_type": "code",
   "execution_count": null,
   "metadata": {},
   "outputs": [],
   "source": []
  }
 ]
}