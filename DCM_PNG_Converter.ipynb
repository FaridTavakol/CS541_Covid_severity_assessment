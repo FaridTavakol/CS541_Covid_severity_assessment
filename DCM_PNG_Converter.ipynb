{
 "metadata": {
  "language_info": {
   "codemirror_mode": {
    "name": "ipython",
    "version": 3
   },
   "file_extension": ".py",
   "mimetype": "text/x-python",
   "name": "python",
   "nbconvert_exporter": "python",
   "pygments_lexer": "ipython3",
   "version": "3.6.9"
  },
  "orig_nbformat": 2,
  "kernelspec": {
   "name": "python36964bit8f98a42d57d2456eb4939acb5338475b",
   "display_name": "Python 3.6.9 64-bit"
  },
  "metadata": {
   "interpreter": {
    "hash": "31f2aee4e71d21fbe5cf8b01ff0e069b9275f58929596ceb00d14d90e3e16cd6"
   }
  }
 },
 "nbformat": 4,
 "nbformat_minor": 2,
 "cells": [
  {
   "cell_type": "code",
   "execution_count": null,
   "metadata": {},
   "outputs": [],
   "source": [
    "import os\n",
    "import numpy as np\n",
    "import pydicom\n",
    "import png\n",
    "source_folder = r'/home/aimlab/Documents/Courses/Deep_learning/Project/DICOM_PNG_converter/dcm'\n",
    "output_folder = r'/home/aimlab/Documents/Courses/Deep_learning/Project/DICOM_PNG_converter/png'\n",
    "\n",
    "\n",
    "def dicom2png(source_folder, output_folder):\n",
    "    list_of_files = os.listdir(source_folder)\n",
    "    f = open('labels.csv','w')\n",
    "    # for file in list_of_files:\n",
    "    #     f.write(file)\n",
    "    #     f.write('\\n')\n",
    "    # f.close()\n",
    "    for file in list_of_files:\n",
    "        f.write(file)\n",
    "        f.write('\\n')\n",
    "        try:\n",
    "            ds = pydicom.read_file(os.path.join(source_folder,file))\n",
    "            # Convert to float to avoid overflow or underflow losses.\n",
    "            # image_2d = ds.pixel_array.astype(float)\n",
    "            shape = ds.pixel_array.shape\n",
    "\n",
    "            # Load dimensions based on the number of rows, columns\n",
    "            x_dim, y_dim = (int(ds.Rows), int(ds.Columns))\n",
    "            # load pixel value\n",
    "            xray = ds.pixel_array\n",
    "            # flip the pixels upside-down so that image is not inverted\n",
    "            # xray = np.flipud(xray)\n",
    "            if ds.PhotometricInterpretation == \"MONOCHROME1\":\n",
    "                xray = np.amax(xray) - xray\n",
    "            xray = xray - np.min(xray)\n",
    "            xray = xray / np.max(xray)\n",
    "            xray = (xray * 255).astype(np.uint8)\n",
    "            # Write the PNG file\n",
    "            print(file)\n",
    "\n",
    "            file = os.path.splitext(file)[0]\n",
    "            with open(os.path.join(output_folder,file)+'.png' , 'wb') as png_file:\n",
    "                w = png.Writer(shape[1], shape[0], greyscale=True)\n",
    "                w.write(png_file, xray)\n",
    "        except:\n",
    "            print('Could not convert: ', file)\n",
    "    f.close()\n",
    "dicom2png(source_folder, output_folder)"
   ]
  },
  {
   "cell_type": "code",
   "execution_count": 166,
   "metadata": {},
   "outputs": [],
   "source": [
    "source_folder = r'/home/aimlab/Documents/Courses/Deep_learning/Project/DICOM_PNG_converter/dcm'\n",
    "output_folder = r'/home/aimlab/Documents/Courses/Deep_learning/Project/DICOM_PNG_converter/png'\n",
    "def dicom2png(source_folder, output_folder):\n",
    "    list_of_files = os.listdir(source_folder)\n",
    "    f = open('labels.csv','w')\n",
    "    f.write('Filename')\n",
    "    f.write('\\n')\n",
    "    for file in list_of_files:\n",
    "        f.write(file)\n",
    "        f.write('\\n')\n",
    "    f.close()\n",
    "dicom2png(source_folder, output_folder)"
   ]
  },
  {
   "cell_type": "code",
   "execution_count": 199,
   "metadata": {},
   "outputs": [],
   "source": [
    "## This part is for using the labels and exctracting the columns values of the original csv file and creating a new csv file.\n",
    "import pandas as pd \n",
    "df = pd.read_csv(r'./labels.csv')\n",
    "org_df = pd.read_csv(r'./metadata_global_v2.csv', sep= ';', dtype = str)\n",
    "# print(org_df)"
   ]
  },
  {
   "cell_type": "code",
   "execution_count": 200,
   "metadata": {},
   "outputs": [
    {
     "output_type": "execute_result",
     "data": {
      "text/plain": [
       "                      Filename StudyDate Modality Columns  Rows  \\\n",
       "0     15626316918619298757.dcm  20200403       CR    2802  2801   \n",
       "1     14564261561865340756.dcm  20200406       CR    2868  2320   \n",
       "2      3030367955559789319.dcm  20200405       CR    2866  2350   \n",
       "3     10548672632742803246.dcm  20200408       DX    3032  2520   \n",
       "4       434139174381164494.dcm  20200409       DX    3032  2520   \n",
       "...                        ...       ...      ...     ...   ...   \n",
       "4690  10409101678672828001.dcm  20200314       CR    3000  2364   \n",
       "4691    282205201992683717.dcm  20200318       DX    3032  2520   \n",
       "4692   9504330565338059035.dcm  20200322       CR    2866  1752   \n",
       "4693   8824145367570793429.dcm  20200331       DX    3032  2520   \n",
       "4694  10900464972137725584.dcm  20200407       DX    3032  2520   \n",
       "\n",
       "           Manufacturer PhotometricInterpretation BrixiaScore  \\\n",
       "0               SIEMENS               MONOCHROME2      000001   \n",
       "1                  Agfa               MONOCHROME1      000002   \n",
       "2               SIEMENS               MONOCHROME2      000010   \n",
       "3     CARESTREAM HEALTH               MONOCHROME1      000021   \n",
       "4     CARESTREAM HEALTH               MONOCHROME1      001001   \n",
       "...                 ...                       ...         ...   \n",
       "4690            SIEMENS               MONOCHROME2      000001   \n",
       "4691  CARESTREAM HEALTH               MONOCHROME1      122023   \n",
       "4692            SIEMENS               MONOCHROME2      233133   \n",
       "4693  CARESTREAM HEALTH               MONOCHROME1      333133   \n",
       "4694  CARESTREAM HEALTH               MONOCHROME1      333133   \n",
       "\n",
       "     BrixiaScoreGlobal ConsensusTestset Subject StudyId Sex  \\\n",
       "0                    1                1   P2255   A0000   M   \n",
       "1                    2                1   P2291   A0001   M   \n",
       "2                    1                1   P2272   A0002   M   \n",
       "3                    3                1   P2299   A0003   M   \n",
       "4                    2                1   P2076   A0004   M   \n",
       "...                ...              ...     ...     ...  ..   \n",
       "4690                 1                0   P1071   A4582   M   \n",
       "4691                10                0   P1071   A4583   M   \n",
       "4692                15                0   P0193   A4584   M   \n",
       "4693                16                0   P0193   A4585   M   \n",
       "4694                16                0   P0193   A4586   M   \n",
       "\n",
       "     AgeAtStudyDateFiveYear  \n",
       "0                        11  \n",
       "1                         8  \n",
       "2                        11  \n",
       "3                        12  \n",
       "4                         8  \n",
       "...                     ...  \n",
       "4690                     10  \n",
       "4691                     10  \n",
       "4692                     14  \n",
       "4693                     14  \n",
       "4694                     14  \n",
       "\n",
       "[4695 rows x 14 columns]"
      ],
      "text/html": "<div>\n<style scoped>\n    .dataframe tbody tr th:only-of-type {\n        vertical-align: middle;\n    }\n\n    .dataframe tbody tr th {\n        vertical-align: top;\n    }\n\n    .dataframe thead th {\n        text-align: right;\n    }\n</style>\n<table border=\"1\" class=\"dataframe\">\n  <thead>\n    <tr style=\"text-align: right;\">\n      <th></th>\n      <th>Filename</th>\n      <th>StudyDate</th>\n      <th>Modality</th>\n      <th>Columns</th>\n      <th>Rows</th>\n      <th>Manufacturer</th>\n      <th>PhotometricInterpretation</th>\n      <th>BrixiaScore</th>\n      <th>BrixiaScoreGlobal</th>\n      <th>ConsensusTestset</th>\n      <th>Subject</th>\n      <th>StudyId</th>\n      <th>Sex</th>\n      <th>AgeAtStudyDateFiveYear</th>\n    </tr>\n  </thead>\n  <tbody>\n    <tr>\n      <th>0</th>\n      <td>15626316918619298757.dcm</td>\n      <td>20200403</td>\n      <td>CR</td>\n      <td>2802</td>\n      <td>2801</td>\n      <td>SIEMENS</td>\n      <td>MONOCHROME2</td>\n      <td>000001</td>\n      <td>1</td>\n      <td>1</td>\n      <td>P2255</td>\n      <td>A0000</td>\n      <td>M</td>\n      <td>11</td>\n    </tr>\n    <tr>\n      <th>1</th>\n      <td>14564261561865340756.dcm</td>\n      <td>20200406</td>\n      <td>CR</td>\n      <td>2868</td>\n      <td>2320</td>\n      <td>Agfa</td>\n      <td>MONOCHROME1</td>\n      <td>000002</td>\n      <td>2</td>\n      <td>1</td>\n      <td>P2291</td>\n      <td>A0001</td>\n      <td>M</td>\n      <td>8</td>\n    </tr>\n    <tr>\n      <th>2</th>\n      <td>3030367955559789319.dcm</td>\n      <td>20200405</td>\n      <td>CR</td>\n      <td>2866</td>\n      <td>2350</td>\n      <td>SIEMENS</td>\n      <td>MONOCHROME2</td>\n      <td>000010</td>\n      <td>1</td>\n      <td>1</td>\n      <td>P2272</td>\n      <td>A0002</td>\n      <td>M</td>\n      <td>11</td>\n    </tr>\n    <tr>\n      <th>3</th>\n      <td>10548672632742803246.dcm</td>\n      <td>20200408</td>\n      <td>DX</td>\n      <td>3032</td>\n      <td>2520</td>\n      <td>CARESTREAM HEALTH</td>\n      <td>MONOCHROME1</td>\n      <td>000021</td>\n      <td>3</td>\n      <td>1</td>\n      <td>P2299</td>\n      <td>A0003</td>\n      <td>M</td>\n      <td>12</td>\n    </tr>\n    <tr>\n      <th>4</th>\n      <td>434139174381164494.dcm</td>\n      <td>20200409</td>\n      <td>DX</td>\n      <td>3032</td>\n      <td>2520</td>\n      <td>CARESTREAM HEALTH</td>\n      <td>MONOCHROME1</td>\n      <td>001001</td>\n      <td>2</td>\n      <td>1</td>\n      <td>P2076</td>\n      <td>A0004</td>\n      <td>M</td>\n      <td>8</td>\n    </tr>\n    <tr>\n      <th>...</th>\n      <td>...</td>\n      <td>...</td>\n      <td>...</td>\n      <td>...</td>\n      <td>...</td>\n      <td>...</td>\n      <td>...</td>\n      <td>...</td>\n      <td>...</td>\n      <td>...</td>\n      <td>...</td>\n      <td>...</td>\n      <td>...</td>\n      <td>...</td>\n    </tr>\n    <tr>\n      <th>4690</th>\n      <td>10409101678672828001.dcm</td>\n      <td>20200314</td>\n      <td>CR</td>\n      <td>3000</td>\n      <td>2364</td>\n      <td>SIEMENS</td>\n      <td>MONOCHROME2</td>\n      <td>000001</td>\n      <td>1</td>\n      <td>0</td>\n      <td>P1071</td>\n      <td>A4582</td>\n      <td>M</td>\n      <td>10</td>\n    </tr>\n    <tr>\n      <th>4691</th>\n      <td>282205201992683717.dcm</td>\n      <td>20200318</td>\n      <td>DX</td>\n      <td>3032</td>\n      <td>2520</td>\n      <td>CARESTREAM HEALTH</td>\n      <td>MONOCHROME1</td>\n      <td>122023</td>\n      <td>10</td>\n      <td>0</td>\n      <td>P1071</td>\n      <td>A4583</td>\n      <td>M</td>\n      <td>10</td>\n    </tr>\n    <tr>\n      <th>4692</th>\n      <td>9504330565338059035.dcm</td>\n      <td>20200322</td>\n      <td>CR</td>\n      <td>2866</td>\n      <td>1752</td>\n      <td>SIEMENS</td>\n      <td>MONOCHROME2</td>\n      <td>233133</td>\n      <td>15</td>\n      <td>0</td>\n      <td>P0193</td>\n      <td>A4584</td>\n      <td>M</td>\n      <td>14</td>\n    </tr>\n    <tr>\n      <th>4693</th>\n      <td>8824145367570793429.dcm</td>\n      <td>20200331</td>\n      <td>DX</td>\n      <td>3032</td>\n      <td>2520</td>\n      <td>CARESTREAM HEALTH</td>\n      <td>MONOCHROME1</td>\n      <td>333133</td>\n      <td>16</td>\n      <td>0</td>\n      <td>P0193</td>\n      <td>A4585</td>\n      <td>M</td>\n      <td>14</td>\n    </tr>\n    <tr>\n      <th>4694</th>\n      <td>10900464972137725584.dcm</td>\n      <td>20200407</td>\n      <td>DX</td>\n      <td>3032</td>\n      <td>2520</td>\n      <td>CARESTREAM HEALTH</td>\n      <td>MONOCHROME1</td>\n      <td>333133</td>\n      <td>16</td>\n      <td>0</td>\n      <td>P0193</td>\n      <td>A4586</td>\n      <td>M</td>\n      <td>14</td>\n    </tr>\n  </tbody>\n</table>\n<p>4695 rows × 14 columns</p>\n</div>"
     },
     "metadata": {},
     "execution_count": 200
    }
   ],
   "source": [
    "# print(list(org_df.columns))\n",
    "org_df"
   ]
  },
  {
   "cell_type": "code",
   "execution_count": 202,
   "metadata": {},
   "outputs": [
    {
     "output_type": "execute_result",
     "data": {
      "text/plain": [
       "Index(['Filename'], dtype='object')"
      ]
     },
     "metadata": {},
     "execution_count": 202
    }
   ],
   "source": [
    "df.columns"
   ]
  },
  {
   "cell_type": "code",
   "execution_count": 203,
   "metadata": {},
   "outputs": [
    {
     "output_type": "execute_result",
     "data": {
      "text/plain": [
       "                   Filename StudyDate Modality Columns  Rows  \\\n",
       "0     98728340646032925.dcm  20200312       CR    2866  2350   \n",
       "1    166414673190348825.dcm  20200325       DX    3032  2520   \n",
       "2    746021306010419641.dcm  20200318       DX    3032  2520   \n",
       "3    759417224465559435.dcm  20200322       CR    2866  1748   \n",
       "4    849569894482494578.dcm  20200330       CR    2866  2350   \n",
       "..                      ...       ...      ...     ...   ...   \n",
       "301  351036371249274070.dcm  20200319       DX    2539  1776   \n",
       "302  221170870669898830.dcm  20200329       CR    2698  2110   \n",
       "303   79376362217868614.dcm  20200330       CR    2866  2350   \n",
       "304  120990829650033034.dcm  20200314       CR    2866  2350   \n",
       "305  734804559464471941.dcm  20200316       DX    3032  2520   \n",
       "\n",
       "          Manufacturer PhotometricInterpretation BrixiaScore  \\\n",
       "0              SIEMENS               MONOCHROME2      011011   \n",
       "1    CARESTREAM HEALTH               MONOCHROME1      001021   \n",
       "2    CARESTREAM HEALTH               MONOCHROME1      122122   \n",
       "3              SIEMENS               MONOCHROME2      132123   \n",
       "4              SIEMENS               MONOCHROME2      232131   \n",
       "..                 ...                       ...         ...   \n",
       "301  Carestream Health               MONOCHROME2      001012   \n",
       "302            SIEMENS               MONOCHROME2      011013   \n",
       "303            SIEMENS               MONOCHROME2      031032   \n",
       "304            SIEMENS               MONOCHROME2      000003   \n",
       "305  CARESTREAM HEALTH               MONOCHROME1      000111   \n",
       "\n",
       "    BrixiaScoreGlobal ConsensusTestset Subject StudyId Sex  \\\n",
       "0                   4                0   P0830   A0703   M   \n",
       "1                   4                0   P0093   A0447   M   \n",
       "2                  10                0   P1301   A1952   M   \n",
       "3                  12                0   P0182   A4255   F   \n",
       "4                  12                0   P1523   A2815   M   \n",
       "..                ...              ...     ...     ...  ..   \n",
       "301                 4                0   P0799   A0431   M   \n",
       "302                 6                0   P2024   A3611   F   \n",
       "303                 9                0   P1552   A1338   M   \n",
       "304                 3                0   P1659   A0235   M   \n",
       "305                 3                0   P0650   A3331   F   \n",
       "\n",
       "    AgeAtStudyDateFiveYear  \n",
       "0                       14  \n",
       "1                       13  \n",
       "2                       14  \n",
       "3                       16  \n",
       "4                       13  \n",
       "..                     ...  \n",
       "301                      4  \n",
       "302                     17  \n",
       "303                     14  \n",
       "304                     14  \n",
       "305                     12  \n",
       "\n",
       "[306 rows x 14 columns]"
      ],
      "text/html": "<div>\n<style scoped>\n    .dataframe tbody tr th:only-of-type {\n        vertical-align: middle;\n    }\n\n    .dataframe tbody tr th {\n        vertical-align: top;\n    }\n\n    .dataframe thead th {\n        text-align: right;\n    }\n</style>\n<table border=\"1\" class=\"dataframe\">\n  <thead>\n    <tr style=\"text-align: right;\">\n      <th></th>\n      <th>Filename</th>\n      <th>StudyDate</th>\n      <th>Modality</th>\n      <th>Columns</th>\n      <th>Rows</th>\n      <th>Manufacturer</th>\n      <th>PhotometricInterpretation</th>\n      <th>BrixiaScore</th>\n      <th>BrixiaScoreGlobal</th>\n      <th>ConsensusTestset</th>\n      <th>Subject</th>\n      <th>StudyId</th>\n      <th>Sex</th>\n      <th>AgeAtStudyDateFiveYear</th>\n    </tr>\n  </thead>\n  <tbody>\n    <tr>\n      <th>0</th>\n      <td>98728340646032925.dcm</td>\n      <td>20200312</td>\n      <td>CR</td>\n      <td>2866</td>\n      <td>2350</td>\n      <td>SIEMENS</td>\n      <td>MONOCHROME2</td>\n      <td>011011</td>\n      <td>4</td>\n      <td>0</td>\n      <td>P0830</td>\n      <td>A0703</td>\n      <td>M</td>\n      <td>14</td>\n    </tr>\n    <tr>\n      <th>1</th>\n      <td>166414673190348825.dcm</td>\n      <td>20200325</td>\n      <td>DX</td>\n      <td>3032</td>\n      <td>2520</td>\n      <td>CARESTREAM HEALTH</td>\n      <td>MONOCHROME1</td>\n      <td>001021</td>\n      <td>4</td>\n      <td>0</td>\n      <td>P0093</td>\n      <td>A0447</td>\n      <td>M</td>\n      <td>13</td>\n    </tr>\n    <tr>\n      <th>2</th>\n      <td>746021306010419641.dcm</td>\n      <td>20200318</td>\n      <td>DX</td>\n      <td>3032</td>\n      <td>2520</td>\n      <td>CARESTREAM HEALTH</td>\n      <td>MONOCHROME1</td>\n      <td>122122</td>\n      <td>10</td>\n      <td>0</td>\n      <td>P1301</td>\n      <td>A1952</td>\n      <td>M</td>\n      <td>14</td>\n    </tr>\n    <tr>\n      <th>3</th>\n      <td>759417224465559435.dcm</td>\n      <td>20200322</td>\n      <td>CR</td>\n      <td>2866</td>\n      <td>1748</td>\n      <td>SIEMENS</td>\n      <td>MONOCHROME2</td>\n      <td>132123</td>\n      <td>12</td>\n      <td>0</td>\n      <td>P0182</td>\n      <td>A4255</td>\n      <td>F</td>\n      <td>16</td>\n    </tr>\n    <tr>\n      <th>4</th>\n      <td>849569894482494578.dcm</td>\n      <td>20200330</td>\n      <td>CR</td>\n      <td>2866</td>\n      <td>2350</td>\n      <td>SIEMENS</td>\n      <td>MONOCHROME2</td>\n      <td>232131</td>\n      <td>12</td>\n      <td>0</td>\n      <td>P1523</td>\n      <td>A2815</td>\n      <td>M</td>\n      <td>13</td>\n    </tr>\n    <tr>\n      <th>...</th>\n      <td>...</td>\n      <td>...</td>\n      <td>...</td>\n      <td>...</td>\n      <td>...</td>\n      <td>...</td>\n      <td>...</td>\n      <td>...</td>\n      <td>...</td>\n      <td>...</td>\n      <td>...</td>\n      <td>...</td>\n      <td>...</td>\n      <td>...</td>\n    </tr>\n    <tr>\n      <th>301</th>\n      <td>351036371249274070.dcm</td>\n      <td>20200319</td>\n      <td>DX</td>\n      <td>2539</td>\n      <td>1776</td>\n      <td>Carestream Health</td>\n      <td>MONOCHROME2</td>\n      <td>001012</td>\n      <td>4</td>\n      <td>0</td>\n      <td>P0799</td>\n      <td>A0431</td>\n      <td>M</td>\n      <td>4</td>\n    </tr>\n    <tr>\n      <th>302</th>\n      <td>221170870669898830.dcm</td>\n      <td>20200329</td>\n      <td>CR</td>\n      <td>2698</td>\n      <td>2110</td>\n      <td>SIEMENS</td>\n      <td>MONOCHROME2</td>\n      <td>011013</td>\n      <td>6</td>\n      <td>0</td>\n      <td>P2024</td>\n      <td>A3611</td>\n      <td>F</td>\n      <td>17</td>\n    </tr>\n    <tr>\n      <th>303</th>\n      <td>79376362217868614.dcm</td>\n      <td>20200330</td>\n      <td>CR</td>\n      <td>2866</td>\n      <td>2350</td>\n      <td>SIEMENS</td>\n      <td>MONOCHROME2</td>\n      <td>031032</td>\n      <td>9</td>\n      <td>0</td>\n      <td>P1552</td>\n      <td>A1338</td>\n      <td>M</td>\n      <td>14</td>\n    </tr>\n    <tr>\n      <th>304</th>\n      <td>120990829650033034.dcm</td>\n      <td>20200314</td>\n      <td>CR</td>\n      <td>2866</td>\n      <td>2350</td>\n      <td>SIEMENS</td>\n      <td>MONOCHROME2</td>\n      <td>000003</td>\n      <td>3</td>\n      <td>0</td>\n      <td>P1659</td>\n      <td>A0235</td>\n      <td>M</td>\n      <td>14</td>\n    </tr>\n    <tr>\n      <th>305</th>\n      <td>734804559464471941.dcm</td>\n      <td>20200316</td>\n      <td>DX</td>\n      <td>3032</td>\n      <td>2520</td>\n      <td>CARESTREAM HEALTH</td>\n      <td>MONOCHROME1</td>\n      <td>000111</td>\n      <td>3</td>\n      <td>0</td>\n      <td>P0650</td>\n      <td>A3331</td>\n      <td>F</td>\n      <td>12</td>\n    </tr>\n  </tbody>\n</table>\n<p>306 rows × 14 columns</p>\n</div>"
     },
     "metadata": {},
     "execution_count": 203
    }
   ],
   "source": [
    "merged_inner = pd.merge(left=df,right=org_df, left_on='Filename', right_on='Filename')\n",
    "merged_inner.shape\n",
    "merged_inner"
   ]
  },
  {
   "cell_type": "code",
   "execution_count": 204,
   "metadata": {},
   "outputs": [],
   "source": [
    "merged_inner.to_csv('Image_labels.csv', sep = ';', encoding='utf-8', index=False)"
   ]
  },
  {
   "cell_type": "code",
   "execution_count": 205,
   "metadata": {},
   "outputs": [
    {
     "output_type": "execute_result",
     "data": {
      "text/plain": [
       "Index(['Filename', 'StudyDate', 'Modality', 'Columns', 'Rows', 'Manufacturer',\n",
       "       'PhotometricInterpretation', 'BrixiaScore', 'BrixiaScoreGlobal',\n",
       "       'ConsensusTestset', 'Subject', 'StudyId', 'Sex',\n",
       "       'AgeAtStudyDateFiveYear'],\n",
       "      dtype='object')"
      ]
     },
     "metadata": {},
     "execution_count": 205
    }
   ],
   "source": [
    "org_df.columns"
   ]
  },
  {
   "cell_type": "code",
   "execution_count": 206,
   "metadata": {},
   "outputs": [
    {
     "output_type": "execute_result",
     "data": {
      "text/plain": [
       "0      011011\n",
       "1      001021\n",
       "2      122122\n",
       "3      132123\n",
       "4      232131\n",
       "        ...  \n",
       "301    001012\n",
       "302    011013\n",
       "303    031032\n",
       "304    000003\n",
       "305    000111\n",
       "Name: BrixiaScore, Length: 306, dtype: object"
      ]
     },
     "metadata": {},
     "execution_count": 206
    }
   ],
   "source": [
    "merged_inner['BrixiaScore'].astype('object')"
   ]
  },
  {
   "cell_type": "code",
   "execution_count": null,
   "metadata": {},
   "outputs": [],
   "source": []
  }
 ]
}